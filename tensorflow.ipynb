{
  "nbformat": 4,
  "nbformat_minor": 0,
  "metadata": {
    "colab": {
      "provenance": [],
      "authorship_tag": "ABX9TyOo7dZBvKJdXFQr0xYFlXZo",
      "include_colab_link": true
    },
    "kernelspec": {
      "name": "python3",
      "display_name": "Python 3"
    },
    "language_info": {
      "name": "python"
    }
  },
  "cells": [
    {
      "cell_type": "markdown",
      "metadata": {
        "id": "view-in-github",
        "colab_type": "text"
      },
      "source": [
        "<a href=\"https://colab.research.google.com/github/Antonypraveenraj001/MSc-Final-Project/blob/main/tensorflow.ipynb\" target=\"_parent\"><img src=\"https://colab.research.google.com/assets/colab-badge.svg\" alt=\"Open In Colab\"/></a>"
      ]
    },
    {
      "cell_type": "code",
      "execution_count": null,
      "metadata": {
        "colab": {
          "base_uri": "https://localhost:8080/"
        },
        "id": "_I2UabDQQqou",
        "outputId": "259245f4-07df-4a98-defb-28d2ee98012b"
      },
      "outputs": [
        {
          "output_type": "execute_result",
          "data": {
            "text/plain": [
              "<tf.Tensor: shape=(3, 2), dtype=int32, numpy=\n",
              "array([[10,  7],\n",
              "       [ 7,  8],\n",
              "       [ 2,  3]], dtype=int32)>"
            ]
          },
          "metadata": {},
          "execution_count": 16
        }
      ],
      "source": [
        "import tensorflow as tf\n",
        "\n",
        "nshuffle = [[10,7],[2,3],[7,8]]\n",
        "\n",
        "tf.random.shuffle(nshuffle)\n",
        "\n",
        "\n"
      ]
    },
    {
      "cell_type": "code",
      "source": [
        "mshuffle = [[10,7,1],[1,2,3],[3,7,8],[7,5,6],[5,4,9]]\n",
        "tf.random.shuffle(mshuffle)"
      ],
      "metadata": {
        "colab": {
          "base_uri": "https://localhost:8080/"
        },
        "id": "t2vKe2krU9DE",
        "outputId": "6f3d96ae-2de1-4988-95fa-b515cea211be"
      },
      "execution_count": null,
      "outputs": [
        {
          "output_type": "execute_result",
          "data": {
            "text/plain": [
              "<tf.Tensor: shape=(5, 3), dtype=int32, numpy=\n",
              "array([[10,  7,  1],\n",
              "       [ 1,  2,  3],\n",
              "       [ 3,  7,  8],\n",
              "       [ 5,  4,  9],\n",
              "       [ 7,  5,  6]], dtype=int32)>"
            ]
          },
          "metadata": {},
          "execution_count": 17
        }
      ]
    },
    {
      "cell_type": "code",
      "source": [
        "onezer= tf.ones([2,3,5,6])\n",
        "onezer\n",
        "#onezer[:2,:2,:2,:2]"
      ],
      "metadata": {
        "colab": {
          "base_uri": "https://localhost:8080/"
        },
        "id": "G4OUN0zYWiNv",
        "outputId": "9c816a96-3809-4126-bc55-1de1a54ae14b"
      },
      "execution_count": null,
      "outputs": [
        {
          "output_type": "execute_result",
          "data": {
            "text/plain": [
              "<tf.Tensor: shape=(2, 3, 5, 6), dtype=float32, numpy=\n",
              "array([[[[1., 1., 1., 1., 1., 1.],\n",
              "         [1., 1., 1., 1., 1., 1.],\n",
              "         [1., 1., 1., 1., 1., 1.],\n",
              "         [1., 1., 1., 1., 1., 1.],\n",
              "         [1., 1., 1., 1., 1., 1.]],\n",
              "\n",
              "        [[1., 1., 1., 1., 1., 1.],\n",
              "         [1., 1., 1., 1., 1., 1.],\n",
              "         [1., 1., 1., 1., 1., 1.],\n",
              "         [1., 1., 1., 1., 1., 1.],\n",
              "         [1., 1., 1., 1., 1., 1.]],\n",
              "\n",
              "        [[1., 1., 1., 1., 1., 1.],\n",
              "         [1., 1., 1., 1., 1., 1.],\n",
              "         [1., 1., 1., 1., 1., 1.],\n",
              "         [1., 1., 1., 1., 1., 1.],\n",
              "         [1., 1., 1., 1., 1., 1.]]],\n",
              "\n",
              "\n",
              "       [[[1., 1., 1., 1., 1., 1.],\n",
              "         [1., 1., 1., 1., 1., 1.],\n",
              "         [1., 1., 1., 1., 1., 1.],\n",
              "         [1., 1., 1., 1., 1., 1.],\n",
              "         [1., 1., 1., 1., 1., 1.]],\n",
              "\n",
              "        [[1., 1., 1., 1., 1., 1.],\n",
              "         [1., 1., 1., 1., 1., 1.],\n",
              "         [1., 1., 1., 1., 1., 1.],\n",
              "         [1., 1., 1., 1., 1., 1.],\n",
              "         [1., 1., 1., 1., 1., 1.]],\n",
              "\n",
              "        [[1., 1., 1., 1., 1., 1.],\n",
              "         [1., 1., 1., 1., 1., 1.],\n",
              "         [1., 1., 1., 1., 1., 1.],\n",
              "         [1., 1., 1., 1., 1., 1.],\n",
              "         [1., 1., 1., 1., 1., 1.]]]], dtype=float32)>"
            ]
          },
          "metadata": {},
          "execution_count": 18
        }
      ]
    },
    {
      "cell_type": "code",
      "source": [
        "onezer[:,:,:2,:2]"
      ],
      "metadata": {
        "colab": {
          "base_uri": "https://localhost:8080/"
        },
        "id": "VvWonYcaYXxc",
        "outputId": "5d0cc949-e327-4414-9300-917e0d5dd93a"
      },
      "execution_count": null,
      "outputs": [
        {
          "output_type": "execute_result",
          "data": {
            "text/plain": [
              "<tf.Tensor: shape=(2, 3, 2, 2), dtype=float32, numpy=\n",
              "array([[[[1., 1.],\n",
              "         [1., 1.]],\n",
              "\n",
              "        [[1., 1.],\n",
              "         [1., 1.]],\n",
              "\n",
              "        [[1., 1.],\n",
              "         [1., 1.]]],\n",
              "\n",
              "\n",
              "       [[[1., 1.],\n",
              "         [1., 1.]],\n",
              "\n",
              "        [[1., 1.],\n",
              "         [1., 1.]],\n",
              "\n",
              "        [[1., 1.],\n",
              "         [1., 1.]]]], dtype=float32)>"
            ]
          },
          "metadata": {},
          "execution_count": 19
        }
      ]
    },
    {
      "cell_type": "code",
      "source": [
        "tensor = tf.constant([[10,7],[2,5]])\n",
        "tensor+10\n",
        "\n"
      ],
      "metadata": {
        "colab": {
          "base_uri": "https://localhost:8080/"
        },
        "id": "fHF2N8E4b6Ni",
        "outputId": "d419b711-30cc-4f9b-e3d1-62fb56ee1b61"
      },
      "execution_count": null,
      "outputs": [
        {
          "output_type": "execute_result",
          "data": {
            "text/plain": [
              "<tf.Tensor: shape=(2, 2), dtype=int32, numpy=\n",
              "array([[20, 17],\n",
              "       [12, 15]], dtype=int32)>"
            ]
          },
          "metadata": {},
          "execution_count": 20
        }
      ]
    },
    {
      "cell_type": "code",
      "source": [
        "tensor = tf.constant([[10,7],[2,5]])\n",
        "tensor*10"
      ],
      "metadata": {
        "colab": {
          "base_uri": "https://localhost:8080/"
        },
        "id": "Icpsvm_KcSSy",
        "outputId": "73bb3b64-c469-4ad6-ae36-18606ef0d320"
      },
      "execution_count": null,
      "outputs": [
        {
          "output_type": "execute_result",
          "data": {
            "text/plain": [
              "<tf.Tensor: shape=(2, 2), dtype=int32, numpy=\n",
              "array([[100,  70],\n",
              "       [ 20,  50]], dtype=int32)>"
            ]
          },
          "metadata": {},
          "execution_count": 21
        }
      ]
    },
    {
      "cell_type": "code",
      "source": [
        "tf.math.multiply(tensor,5)"
      ],
      "metadata": {
        "colab": {
          "base_uri": "https://localhost:8080/"
        },
        "id": "ol5VuHX-cZNp",
        "outputId": "12ffa633-1bc3-41ce-fb8e-4120d77e74db"
      },
      "execution_count": null,
      "outputs": [
        {
          "output_type": "execute_result",
          "data": {
            "text/plain": [
              "<tf.Tensor: shape=(2, 2), dtype=int32, numpy=\n",
              "array([[50, 35],\n",
              "       [10, 25]], dtype=int32)>"
            ]
          },
          "metadata": {},
          "execution_count": 22
        }
      ]
    },
    {
      "cell_type": "code",
      "source": [
        "#to get a dot product of matrix\n",
        "tf.linalg.matmul(tensor,tensor)"
      ],
      "metadata": {
        "colab": {
          "base_uri": "https://localhost:8080/"
        },
        "id": "XM9uf9J5dqj8",
        "outputId": "00a3a937-5b57-41b4-94f2-74e23dc1b5bd"
      },
      "execution_count": null,
      "outputs": [
        {
          "output_type": "execute_result",
          "data": {
            "text/plain": [
              "<tf.Tensor: shape=(2, 2), dtype=int32, numpy=\n",
              "array([[114, 105],\n",
              "       [ 30,  39]], dtype=int32)>"
            ]
          },
          "metadata": {},
          "execution_count": 23
        }
      ]
    },
    {
      "cell_type": "code",
      "source": [
        "#normal multiplication of python\n",
        "print(tensor)\n",
        "print(tensor)\n",
        "tensor*tensor"
      ],
      "metadata": {
        "colab": {
          "base_uri": "https://localhost:8080/"
        },
        "id": "EqksL9r_elSY",
        "outputId": "2ee6b994-0f23-41d7-c61d-6a204a887c91"
      },
      "execution_count": null,
      "outputs": [
        {
          "output_type": "stream",
          "name": "stdout",
          "text": [
            "tf.Tensor(\n",
            "[[10  7]\n",
            " [ 2  5]], shape=(2, 2), dtype=int32)\n",
            "tf.Tensor(\n",
            "[[10  7]\n",
            " [ 2  5]], shape=(2, 2), dtype=int32)\n"
          ]
        },
        {
          "output_type": "execute_result",
          "data": {
            "text/plain": [
              "<tf.Tensor: shape=(2, 2), dtype=int32, numpy=\n",
              "array([[100,  49],\n",
              "       [  4,  25]], dtype=int32)>"
            ]
          },
          "metadata": {},
          "execution_count": 24
        }
      ]
    },
    {
      "cell_type": "code",
      "source": [
        "#dot product multiplication of python( correct way to multiply matrix)\n",
        "print(tensor)\n",
        "print(tensor)\n",
        "tensor@tensor"
      ],
      "metadata": {
        "colab": {
          "base_uri": "https://localhost:8080/"
        },
        "id": "IQN8fWRxe6wy",
        "outputId": "74cfc5ce-07d3-4a94-814e-af1788b2066a"
      },
      "execution_count": null,
      "outputs": [
        {
          "output_type": "stream",
          "name": "stdout",
          "text": [
            "tf.Tensor(\n",
            "[[10  7]\n",
            " [ 2  5]], shape=(2, 2), dtype=int32)\n",
            "tf.Tensor(\n",
            "[[10  7]\n",
            " [ 2  5]], shape=(2, 2), dtype=int32)\n"
          ]
        },
        {
          "output_type": "execute_result",
          "data": {
            "text/plain": [
              "<tf.Tensor: shape=(2, 2), dtype=int32, numpy=\n",
              "array([[114, 105],\n",
              "       [ 30,  39]], dtype=int32)>"
            ]
          },
          "metadata": {},
          "execution_count": 25
        }
      ]
    },
    {
      "cell_type": "code",
      "source": [
        "#we cannot do dot product without matching the size of the inner shape of\n",
        "#matrix (3,2).(3,3) cannot be done so we are doing transpose to one matrix\n",
        "#we are transposing a so it becomes as (2,3) and now we can do dotproduct\n",
        "a=tf.constant([[10,5],[6,5],[4,2]])\n",
        "b=tf.constant([[7,8,9],[4,5,6],[1,2,3]])\n",
        "print(a)\n",
        "print(b)\n",
        "aa= tf.transpose(a)\n",
        "print(aa)\n",
        "print(b)\n",
        "tf.matmul(aa,b)\n"
      ],
      "metadata": {
        "colab": {
          "base_uri": "https://localhost:8080/"
        },
        "id": "C9vRptBcRjQr",
        "outputId": "38dc700b-70e5-4f36-cfb5-ccb37b204ae4"
      },
      "execution_count": null,
      "outputs": [
        {
          "output_type": "stream",
          "name": "stdout",
          "text": [
            "tf.Tensor(\n",
            "[[10  5]\n",
            " [ 6  5]\n",
            " [ 4  2]], shape=(3, 2), dtype=int32)\n",
            "tf.Tensor(\n",
            "[[7 8 9]\n",
            " [4 5 6]\n",
            " [1 2 3]], shape=(3, 3), dtype=int32)\n",
            "tf.Tensor(\n",
            "[[10  6  4]\n",
            " [ 5  5  2]], shape=(2, 3), dtype=int32)\n",
            "tf.Tensor(\n",
            "[[7 8 9]\n",
            " [4 5 6]\n",
            " [1 2 3]], shape=(3, 3), dtype=int32)\n"
          ]
        },
        {
          "output_type": "execute_result",
          "data": {
            "text/plain": [
              "<tf.Tensor: shape=(2, 3), dtype=int32, numpy=\n",
              "array([[ 98, 118, 138],\n",
              "       [ 57,  69,  81]], dtype=int32)>"
            ]
          },
          "metadata": {},
          "execution_count": 26
        }
      ]
    },
    {
      "cell_type": "code",
      "source": [
        "#creating random float numbers using shape\n",
        "import numpy as np\n",
        "f= tf.random.uniform(shape=[50])\n",
        "f\n"
      ],
      "metadata": {
        "id": "9ZDuqknlUxTd",
        "colab": {
          "base_uri": "https://localhost:8080/"
        },
        "outputId": "3d09cfd0-c8c3-49df-9a81-2b9830b13041"
      },
      "execution_count": null,
      "outputs": [
        {
          "output_type": "execute_result",
          "data": {
            "text/plain": [
              "<tf.Tensor: shape=(50,), dtype=float32, numpy=\n",
              "array([0.92971706, 0.9994656 , 0.52169144, 0.7657143 , 0.8440584 ,\n",
              "       0.7724689 , 0.00233793, 0.51207554, 0.01021874, 0.93782735,\n",
              "       0.42117095, 0.93159187, 0.9739996 , 0.80968225, 0.46203816,\n",
              "       0.71149147, 0.8277371 , 0.39920413, 0.6675657 , 0.21282744,\n",
              "       0.9781071 , 0.04979742, 0.35016108, 0.39249122, 0.97269976,\n",
              "       0.37497365, 0.9833745 , 0.9647963 , 0.49011457, 0.9673369 ,\n",
              "       0.7379236 , 0.18860006, 0.9650258 , 0.3057933 , 0.7586956 ,\n",
              "       0.49995697, 0.67781067, 0.7023759 , 0.01255083, 0.37884307,\n",
              "       0.98956954, 0.31922185, 0.19422317, 0.33365822, 0.5658312 ,\n",
              "       0.866431  , 0.57992256, 0.9684671 , 0.69728684, 0.05964911],\n",
              "      dtype=float32)>"
            ]
          },
          "metadata": {},
          "execution_count": 27
        }
      ]
    },
    {
      "cell_type": "code",
      "source": [
        "#finding the the maximum argument\n",
        "f[tf.argmax(f)]"
      ],
      "metadata": {
        "colab": {
          "base_uri": "https://localhost:8080/"
        },
        "id": "JpzSuVaTX1wa",
        "outputId": "6059f322-9751-41fe-ea42-7491ed5ffccd"
      },
      "execution_count": null,
      "outputs": [
        {
          "output_type": "execute_result",
          "data": {
            "text/plain": [
              "<tf.Tensor: shape=(), dtype=float32, numpy=0.9994656>"
            ]
          },
          "metadata": {},
          "execution_count": 28
        }
      ]
    },
    {
      "cell_type": "code",
      "source": [
        "#finding the the maximum argument\n",
        "f[tf.argmin(f)]"
      ],
      "metadata": {
        "colab": {
          "base_uri": "https://localhost:8080/"
        },
        "id": "2XK8OVaqX7zJ",
        "outputId": "bec7a8e7-5325-4c67-bb52-fa950926e9ca"
      },
      "execution_count": null,
      "outputs": [
        {
          "output_type": "execute_result",
          "data": {
            "text/plain": [
              "<tf.Tensor: shape=(), dtype=float32, numpy=0.0023379326>"
            ]
          },
          "metadata": {},
          "execution_count": 29
        }
      ]
    },
    {
      "cell_type": "code",
      "source": [
        "import numpy as np\n",
        "import matplotlib.pyplot as plt\n",
        "\n",
        "# creating features\n",
        "x = np.array([-7,-4,-1,2,5,8,11,14])\n",
        "\n",
        "# create lables\n",
        "y =np.array([3,6,9,12,15,18,21,24])\n",
        "\n",
        "# visulizing it\n",
        "plt.scatter(x,y)\n",
        "plt.plot(x,y)"
      ],
      "metadata": {
        "id": "zMXurZ7YX_IQ",
        "colab": {
          "base_uri": "https://localhost:8080/",
          "height": 452
        },
        "outputId": "e9694c51-69e0-460c-c0ef-de3458513f32"
      },
      "execution_count": null,
      "outputs": [
        {
          "output_type": "execute_result",
          "data": {
            "text/plain": [
              "[<matplotlib.lines.Line2D at 0x7b8a1ced92d0>]"
            ]
          },
          "metadata": {},
          "execution_count": 30
        },
        {
          "output_type": "display_data",
          "data": {
            "text/plain": [
              "<Figure size 640x480 with 1 Axes>"
            ],
            "image/png": "[encoded data removed]"
          },
          "metadata": {}
        }
      ]
    },
    {
      "cell_type": "code",
      "source": [],
      "metadata": {
        "id": "e1XqyKAqKOCg",
        "colab": {
          "base_uri": "https://localhost:8080/"
        },
        "outputId": "86d996d6-5293-4d74-a88c-76675351f573"
      },
      "execution_count": null,
      "outputs": [
        {
          "output_type": "execute_result",
          "data": {
            "text/plain": [
              "((8,), (8,))"
            ]
          },
          "metadata": {},
          "execution_count": 31
        }
      ]
    }
  ]
}